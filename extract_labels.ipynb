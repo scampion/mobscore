{
 "cells": [
  {
   "cell_type": "code",
   "execution_count": 27,
   "id": "d0dab437-1c0c-4c1a-90e3-710fd74f888b",
   "metadata": {},
   "outputs": [],
   "source": [
    "import json\n",
    "import os \n",
    "from datetime import datetime\n",
    "\n",
    "#for fp in os.listdir('data/2022-10-03'):\n",
    "#    print(fp)\n",
    "\n",
    "fp = \"data/dev/9000000183.json\"\n",
    "\n",
    "\n",
    "    "
   ]
  },
  {
   "cell_type": "code",
   "execution_count": 54,
   "id": "c6a21839-b0a0-433d-bfca-54781c873be7",
   "metadata": {},
   "outputs": [],
   "source": [
    "with open(fp) as f:\n",
    "    data = json.load(f)\n",
    "df = pd.DataFrame([{'datetime': r['date'], 'bike': r['bike'], 'car': r['car'], 'pedestrian': r['pedestrian']} for r in data['report']])\n",
    "df.index = pd.to_datetime(df['datetime'], format='%Y-%m-%dT%H:%M:%S.000Z')\n",
    "del df['datetime']\n",
    "df = df.resample('D').sum()"
   ]
  },
  {
   "cell_type": "code",
   "execution_count": 55,
   "id": "a1c4d349-25c8-4888-bae6-f7d9e5fc0aea",
   "metadata": {},
   "outputs": [
    {
     "data": {
      "text/plain": [
       "bike          55.556306\n",
       "car           57.286383\n",
       "pedestrian    33.539490\n",
       "dtype: float64"
      ]
     },
     "execution_count": 55,
     "metadata": {},
     "output_type": "execute_result"
    }
   ],
   "source": [
    "df.mean()"
   ]
  }
 ],
 "metadata": {
  "kernelspec": {
   "display_name": "Python 3 (ipykernel)",
   "language": "python",
   "name": "python3"
  },
  "language_info": {
   "codemirror_mode": {
    "name": "ipython",
    "version": 3
   },
   "file_extension": ".py",
   "mimetype": "text/x-python",
   "name": "python",
   "nbconvert_exporter": "python",
   "pygments_lexer": "ipython3",
   "version": "3.9.14"
  }
 },
 "nbformat": 4,
 "nbformat_minor": 5
}
