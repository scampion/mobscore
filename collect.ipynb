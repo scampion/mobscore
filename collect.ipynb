{
 "cells": [
  {
   "cell_type": "markdown",
   "id": "cf0ce396-ff8e-4cfd-bf36-1e8d5052fc8d",
   "metadata": {},
   "source": [
    "## Download and convert OSM protobuf data to SQLite"
   ]
  },
  {
   "cell_type": "code",
   "execution_count": null,
   "id": "a3f4d7dc-b985-4506-b838-6d0e04c91803",
   "metadata": {},
   "outputs": [],
   "source": [
    "!wget http://download.geofabrik.de/europe/belgium-latest.osm.pbf -O data/belgium-latest.osm.pbf"
   ]
  },
  {
   "cell_type": "code",
   "execution_count": null,
   "id": "6d5eb268-78c1-4c62-8674-1da9c7bc3288",
   "metadata": {},
   "outputs": [],
   "source": [
    "!spatialite_osm_raw -o data/belgium-latest.osm.pbf  -d belgium.sqlite"
   ]
  },
  {
   "cell_type": "markdown",
   "id": "36703e5a-3ad1-4ab8-a2e6-30e060547d33",
   "metadata": {},
   "source": [
    "## Index creation on OSM Nodes"
   ]
  },
  {
   "cell_type": "code",
   "execution_count": 1,
   "id": "8afd2a13-cb03-4166-af01-d2d28e7dfe47",
   "metadata": {},
   "outputs": [],
   "source": [
    "import sqlite3\n",
    "conn = sqlite3.connect(\"belgium.sqlite\")\n",
    "conn.enable_load_extension(True)\n",
    "conn.load_extension(\"/opt/homebrew/lib/mod_spatialite.dylib\")\n",
    "conn.execute(\"select InitSpatialMetadata(1)\")\n",
    "conn.execute(\"SELECT CreateSpatialIndex('osm_nodes', 'Geometry');\")\n",
    "conn.commit()\n",
    "conn.close()"
   ]
  }
 ],
 "metadata": {
  "kernelspec": {
   "display_name": "Python 3 (ipykernel)",
   "language": "python",
   "name": "python3"
  },
  "language_info": {
   "codemirror_mode": {
    "name": "ipython",
    "version": 3
   },
   "file_extension": ".py",
   "mimetype": "text/x-python",
   "name": "python",
   "nbconvert_exporter": "python",
   "pygments_lexer": "ipython3",
   "version": "3.9.14"
  }
 },
 "nbformat": 4,
 "nbformat_minor": 5
}
